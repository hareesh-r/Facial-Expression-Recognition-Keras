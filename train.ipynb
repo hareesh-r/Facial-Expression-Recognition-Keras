{
 "cells": [
  {
   "cell_type": "code",
   "execution_count": null,
   "metadata": {},
   "outputs": [],
   "source": [
    "import os\n",
    "\n",
    "import keras\n",
    "from keras.layers import (Activation, BatchNormalization, Conv2D, Dense,\n",
    "                          Dropout, Flatten, MaxPooling2D)\n",
    "from keras.models import Sequential\n",
    "from keras.preprocessing.image import ImageDataGenerator"
   ]
  },
  {
   "cell_type": "code",
   "execution_count": null,
   "metadata": {},
   "outputs": [],
   "source": [
    "num_classes = 7\n",
    "img_rows,img_cols = 48 , 48\n",
    "batch_size = 2\n",
    "\n",
    "train_data_dir = r\"E:\\ML\\FACE EXPRESSIOON\\images\\train\" #Train images path here\n",
    "validation_data_dir = r\"E:\\ML\\FACE EXPRESSIOON\\images\\validation\" #Test images path here\n",
    "\n",
    "train_data_gen = ImageDataGenerator(rescale = 1./255,\n",
    "                                    rotation_range = 30,\n",
    "                                    shear_range = 0.3,\n",
    "                                    zoom_range = 3.0,\n",
    "                                    width_shift_range = 0.4,\n",
    "                                    height_shift_range = 0.4,\n",
    "                                    horizontal_flip = True)\n",
    "\"\"\"\n",
    "since my dataset not enough (too small) for training I'm making it different images from this by rotating the image by 30% \n",
    "and changing the shear angle and zooming range also shifting the wight and height while retaining the dimensions and also by\n",
    "producing mirror images.\n",
    "\"\"\"\n",
    "validation_data_gen = ImageDataGenerator(rescale = 1./255)\n",
    "\n",
    "train_generator = train_data_gen.flow_from_directory(train_data_dir,\n",
    "                                                    color_mode = \"grayscale\",\n",
    "                                                    target_size = (img_cols,img_rows)\n",
    "                                                    ,batch_size = batch_size,\n",
    "                                                    class_mode = \"categorical\",\n",
    "                                                    shuffle = True)\n",
    "\n",
    "validation_generator = validation_data_gen.flow_from_directory(validation_data_dir,\n",
    "                                                                color_mode = \"grayscale\",\n",
    "                                                                target_size = (img_cols,img_rows),\n",
    "                                                                batch_size = batch_size,\n",
    "                                                                class_mode = \"categorical\",\n",
    "                                                                shuffle = True)"
   ]
  },
  {
   "cell_type": "code",
   "execution_count": null,
   "metadata": {},
   "outputs": [],
   "source": [
    "model = Sequential() # using sequential modeling\n",
    "\n",
    "#block1\n",
    "model.add(Conv2D(32,(3,3),padding=\"same\",kernel_initializer =\"he_normal\",input_shape=(img_rows,img_cols,1)))\n",
    "model.add(Activation(\"elu\"))\n",
    "model.add(BatchNormalization()) \n",
    "model.add(Conv2D(32,(3,3),padding=\"same\",kernel_initializer =\"he_normal\",input_shape=(img_rows,img_cols,1)))\n",
    "model.add(Activation(\"elu\"))\n",
    "model.add(BatchNormalization()) \n",
    "model.add(MaxPooling2D(pool_size=(2,2)))\n",
    "model.add(Dropout(0.2))"
   ]
  },
  {
   "cell_type": "code",
   "execution_count": null,
   "metadata": {},
   "outputs": [],
   "source": [
    "#block2\n",
    "model.add(Conv2D(64,(3,3),padding=\"same\",kernel_initializer =\"he_normal\"))\n",
    "model.add(Activation(\"elu\"))\n",
    "model.add(BatchNormalization()) \n",
    "model.add(Conv2D(64,(3,3),padding=\"same\",kernel_initializer =\"he_normal\"))\n",
    "model.add(Activation(\"elu\"))\n",
    "model.add(BatchNormalization()) \n",
    "model.add(MaxPooling2D(pool_size=(2,2)))\n",
    "model.add(Dropout(0.2))"
   ]
  },
  {
   "cell_type": "code",
   "execution_count": null,
   "metadata": {},
   "outputs": [],
   "source": [
    "#block3\n",
    "model.add(Conv2D(128,(3,3),padding=\"same\",kernel_initializer =\"he_normal\"))\n",
    "model.add(Activation(\"elu\"))\n",
    "model.add(BatchNormalization()) \n",
    "model.add(Conv2D(128,(3,3),padding=\"same\",kernel_initializer =\"he_normal\"))\n",
    "model.add(Activation(\"elu\"))\n",
    "model.add(BatchNormalization()) \n",
    "model.add(MaxPooling2D(pool_size=(2,2)))\n",
    "model.add(Dropout(0.2))"
   ]
  },
  {
   "cell_type": "code",
   "execution_count": null,
   "metadata": {},
   "outputs": [],
   "source": [
    "#block4\n",
    "model.add(Conv2D(256,(3,3),padding=\"same\",kernel_initializer =\"he_normal\"))\n",
    "model.add(Activation(\"elu\"))\n",
    "model.add(BatchNormalization()) \n",
    "model.add(Conv2D(256,(3,3),padding=\"same\",kernel_initializer =\"he_normal\"))\n",
    "model.add(Activation(\"elu\"))\n",
    "model.add(BatchNormalization()) \n",
    "model.add(MaxPooling2D(pool_size=(2,2)))\n",
    "model.add(Dropout(0.2))"
   ]
  },
  {
   "cell_type": "code",
   "execution_count": null,
   "metadata": {},
   "outputs": [],
   "source": [
    "#block5\n",
    "model.add(Conv2D(512,(3,3),padding=\"same\",kernel_initializer =\"he_normal\"))\n",
    "model.add(Activation(\"elu\"))\n",
    "model.add(BatchNormalization()) \n",
    "model.add(Conv2D(512,(3,3),padding=\"same\",kernel_initializer =\"he_normal\"))\n",
    "model.add(Activation(\"elu\"))\n",
    "model.add(BatchNormalization()) \n",
    "model.add(MaxPooling2D(pool_size=(2,2)))\n",
    "model.add(Dropout(0.2))"
   ]
  },
  {
   "cell_type": "code",
   "execution_count": null,
   "metadata": {},
   "outputs": [],
   "source": [
    "#block6\n",
    "model.add(Flatten())\n",
    "model.add(Dense(64,kernel_initializer=\"he_normal\"))\n",
    "model.add(Activation(\"elu\"))\n",
    "model.add(BatchNormalization())\n",
    "model.add(Dropout(0.5))"
   ]
  },
  {
   "cell_type": "code",
   "execution_count": null,
   "metadata": {},
   "outputs": [],
   "source": [
    "#block7\n",
    "model.add(Dense(64,kernel_initializer=\"he_normal\"))\n",
    "model.add(Activation(\"elu\"))\n",
    "model.add(BatchNormalization())\n",
    "model.add(Dropout(0.5))"
   ]
  },
  {
   "cell_type": "code",
   "execution_count": null,
   "metadata": {},
   "outputs": [],
   "source": [
    "model.add(Dense(num_classes,kernel_initializer=\"he_normal\"))\n",
    "model.add(Activation(\"softmax\"))"
   ]
  },
  {
   "cell_type": "code",
   "execution_count": null,
   "metadata": {},
   "outputs": [],
   "source": [
    "print(model.summary())"
   ]
  },
  {
   "cell_type": "code",
   "execution_count": null,
   "metadata": {},
   "outputs": [],
   "source": [
    "from keras.optimizers import RMSprop , SGD , Adam\n",
    "from keras.callbacks import ModelCheckpoint , EarlyStopping , ReduceLROnPlateau"
   ]
  },
  {
   "cell_type": "code",
   "execution_count": null,
   "metadata": {},
   "outputs": [],
   "source": [
    "checkpoint = ModelCheckpoint(\"checkpoint2.h5\",\n",
    "                        monitor=\"val_loss\",\n",
    "                        mode=\"min\",\n",
    "                        save_best_only=True,\n",
    "                        verbose=1) # checkpoint file name here in my case checkpoint2.h5\n",
    "\n",
    "\"\"\"\n",
    "Here we will monitor the val_loss which is minimum and saving it\n",
    "\"\"\"\n",
    "\n",
    "earlystop = EarlyStopping(monitor=\"val_loss\",\n",
    "                        min_delta=0,\n",
    "                        patience=3,\n",
    "                        restore_best_weights=True,\n",
    "                        verbose=1)\n",
    "\n",
    "\"\"\"\n",
    "Here we will monitor the val_loss whith 3 extra epoches and retain the best weighted file\n",
    "\"\"\"\n",
    "\n",
    "reduce_lr = ReduceLROnPlateau(monitor=\"val_loss\",\n",
    "                             factor=0.2,\n",
    "                             patience=3,\n",
    "                             verbose=1,\n",
    "                             min_delta=0.0001)"
   ]
  },
  {
   "cell_type": "code",
   "execution_count": null,
   "metadata": {},
   "outputs": [],
   "source": [
    "callbacks=[earlystop,checkpoint,reduce_lr]\n",
    "\n",
    "model.compile(loss=\"categorical_crossentropy\",\n",
    "             optimizer=Adam(lr=0.001),\n",
    "             metrics=[\"accuracy\"] )\n",
    "\n",
    "nb_train_samples = 28821 #obtained after train and validation generators\n",
    "nb_validation_samples = 7066 #obtained after train and validation generators\n",
    "epochs = 25\n",
    "\n",
    "#fitting/training our model\n",
    "\n",
    "history = model.fit_generator(train_generator,\n",
    "                             steps_per_epoch=nb_train_samples//batch_size,\n",
    "                             epochs=epochs,\n",
    "                             callbacks=callbacks,\n",
    "                             validation_data=validation_generator,\n",
    "                             validation_steps=nb_validation_samples//batch_size)"
   ]
  },
  {
   "cell_type": "code",
   "execution_count": null,
   "metadata": {},
   "outputs": [],
   "source": []
  },
  {
   "cell_type": "code",
   "execution_count": null,
   "metadata": {},
   "outputs": [],
   "source": []
  },
  {
   "cell_type": "code",
   "execution_count": null,
   "metadata": {},
   "outputs": [],
   "source": []
  },
  {
   "cell_type": "code",
   "execution_count": null,
   "metadata": {},
   "outputs": [],
   "source": []
  }
 ],
 "metadata": {
  "kernelspec": {
   "display_name": "Python 3",
   "language": "python",
   "name": "python3"
  },
  "language_info": {
   "codemirror_mode": {
    "name": "ipython",
    "version": 3
   },
   "file_extension": ".py",
   "mimetype": "text/x-python",
   "name": "python",
   "nbconvert_exporter": "python",
   "pygments_lexer": "ipython3",
   "version": "3.7.9"
  }
 },
 "nbformat": 4,
 "nbformat_minor": 4
}
